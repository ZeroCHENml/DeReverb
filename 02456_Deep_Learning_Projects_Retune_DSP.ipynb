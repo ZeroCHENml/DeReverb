{
 "cells": [
  {
   "cell_type": "markdown",
   "metadata": {
    "colab_type": "text",
    "id": "MnPRIFSJEBdF"
   },
   "source": [
    "# 02456 Deep Learning, Project Work 2019\n",
    "\n",
    "## Supervised by Retune DSP"
   ]
  },
  {
   "cell_type": "markdown",
   "metadata": {
    "colab_type": "text",
    "id": "b8kiokhkEBdM"
   },
   "source": [
    "*Written by Nicklas Hansen*"
   ]
  },
  {
   "cell_type": "markdown",
   "metadata": {
    "colab_type": "text",
    "id": "cw6PmHP1EBdP"
   },
   "source": [
    "This notebook is a small introduction to the project work that you will carry out in the coming weeks. While no experience in digital signal processing is required, it is a good idea to get familiar with basic signal processing, Fourier Transforms, MFCCs (if you're doing Voice Activity Detection) and impulse responses (if you're doing Reverberation Removal).\n",
    "\n",
    "It is recommended to run the training of your neural networks on a GPU. If you do not have a GPU available on your local machine, you may want to use Google Colab for the project. Questions regarding PyTorch, GPU acceleration and Google Colab can be directed to Nicklas in the *#retune_dsp* Slack channel. You can also find him in Skylab (ground floor) every Monday afternoon."
   ]
  },
  {
   "cell_type": "markdown",
   "metadata": {
    "colab_type": "text",
    "id": "oXYkoNdoEBdR"
   },
   "source": [
    "### Group work"
   ]
  },
  {
   "cell_type": "markdown",
   "metadata": {
    "colab_type": "text",
    "id": "eB6VSogkEBdU"
   },
   "source": [
    "We highly encourage you to form groups of 2-3 members. If you’re a group of friends >3, consider splitting up into two smaller groups. You are allowed to discuss ideas with other groups, but in smaller groups you all get to implement a fair share (and thus learn more).\n",
    "It is a good idea to create a git repo for your project work so that you all have access to the latest version. It is also a good way to show off your newly-developed deep learning skills to future employers!\n",
    "If you divide the project work between group members, make sure that all members have an understanding of each others parts - you might get asked individual questions at the poster session."
   ]
  },
  {
   "cell_type": "markdown",
   "metadata": {
    "colab_type": "text",
    "id": "JjETCCE_EBdX"
   },
   "source": [
    "### Voice Activity Detection\n",
    "\n",
    "In smart audio projects such as Amazon Alexa, Google Voice Assistant or Apple Siri, microphones are always listening and continuously looking for a given wake-word, which initiates the cloud-based speech recognition and interaction.\n",
    "To reduce power consumption, this process is typically carried out in multiple stages, with the first stage checking whether any speech is present or not.<br/>\n",
    "In this project, we will investigate deep learning architectures for voice activity detection (VAD).\n",
    "\n",
    "### Reverberation Removal\n",
    "\n",
    "Acoustic reverberation is the reflection of audio from surfaces such as walls, furniture etc. and occurs virtually everywhere. When using hands-free smart audio devices the microphone is typically located far from the audio source, which can create strong reverberation artifacts. Our brains are quite good at speech comprehension regardless of reverberation, but it can seriously limit the effectiveness of automatic speech recognition systems and solutions to this problem is therefore of interest.<br/>\n",
    "In this project, we will investigate how deep learning can be used to remove reverberation from speech signals."
   ]
  },
  {
   "cell_type": "markdown",
   "metadata": {
    "colab_type": "text",
    "id": "3dlxQN7AEBda"
   },
   "source": [
    "## Dependencies"
   ]
  },
  {
   "cell_type": "markdown",
   "metadata": {
    "colab_type": "text",
    "id": "CfSSWyrNEBdd"
   },
   "source": [
    "We recommend using [Librosa](https://librosa.github.io/librosa/index.html) for working with audio files as it is easy to use and has a fairly good documentation. We assume that you already have `numpy`, `matplotlib` and `torch` installed. "
   ]
  },
  {
   "cell_type": "markdown",
   "metadata": {
    "colab_type": "text",
    "id": "2WXYfnAjEBdt"
   },
   "source": [
    "## Data"
   ]
  },
  {
   "cell_type": "markdown",
   "metadata": {
    "colab_type": "text",
    "id": "IZIKz9zDEBdv"
   },
   "source": [
    "For clean speech (i.e. no noise, no reverberation), we will be using a small subset of the open source [LibriSpeech ASR](https://www.openslr.org/12/) dataset. We provide the dataset for you in a 16kHz single-channel 32-bit ```.wav``` format.<br/>\n",
    "We also provide you with noise data (for VAD) and impulse responses (for reverberation removal). All data can be downloaded from the link shared in the Slack channel. Note that the link expires January 1, 2020.\n",
    "\n",
    "Note that it is a good idea to use a small subset of the data that we provide you during development. Once you have a working model, you can then scale up the data volume as much as you deem feasible.\n",
    "\n",
    "If you place the data in a local directory (or in your Google Drive) and set ```data_directory``` to the relative path to that directory, you can use the below code to load your audio into Python using ```Librosa```. When loading an audio file using Librosa, you have to specify the sample rate explicitly; we do that by parsing in ```sample_rate``` to the ```sr``` argument."
   ]
  },
  {
   "cell_type": "code",
   "execution_count": null,
   "metadata": {
    "colab": {},
    "colab_type": "code",
    "id": "dmXRYkE8EBdz",
    "outputId": "21950807-e021-4d52-e58c-01e6a95ada7e"
   },
   "outputs": [
    {
     "name": "stdout",
     "output_type": "stream",
     "text": [
      "Found 4154 files in the selected dataset.\n",
      "\n",
      "Loaded an audio file with 32640 samples at a sample rate of 16 kHz.\n"
     ]
    },
    {
     "data": {
      "image/png": "[encoded data removed]",
      "text/plain": [
       "<Figure size 1152x144 with 1 Axes>"
      ]
     },
     "metadata": {
      "tags": []
     },
     "output_type": "display_data"
    }
   ],
   "source": [
    "import numpy as np\n",
    "import glob\n",
    "import librosa\n",
    "import matplotlib.pyplot as plt\n",
    "%matplotlib inline\n",
    "\n",
    "data_directory = 'data'\n",
    "sample_rate = 16e3\n",
    "\n",
    "\n",
    "def get_filepaths(data_directory, dataset):\n",
    "    \"\"\"\n",
    "    Returns a list of file paths for the specified dataset.\n",
    "    \"\"\"\n",
    "    assert dataset in {'clean-speech', 'noise', 'impulse-responses'}\n",
    "    \n",
    "    regex = '/'.join((data_directory, dataset, '*.wav'))\n",
    "    filepaths = glob.glob(regex)\n",
    "    \n",
    "    if len(filepaths) == 0:\n",
    "        raise Exception('No files were found in the specified dataset!')\n",
    "    \n",
    "    return filepaths\n",
    "\n",
    "\n",
    "def plot_audio(audio, labels=None, sample_rate=16000):\n",
    "    audio_duration = len(audio_file)/sample_rate\n",
    "    plt.figure(figsize=(16, 2))\n",
    "    \n",
    "    time_audio = np.linspace(0, audio_duration, num=len(audio_file))\n",
    "    plt.plot(time_audio, audio_file)\n",
    "    \n",
    "    if labels is not None:\n",
    "        time_labels = np.linspace(0, audio_duration, num=len(labels))\n",
    "        plt.plot(time_labels, np.array(labels)/2)\n",
    "        \n",
    "    plt.title(f'Audio file (duration: {len(audio_file)/sample_rate}s)')\n",
    "    plt.show()\n",
    "    \n",
    "\n",
    "dataset = get_filepaths(data_directory, dataset='clean-speech')\n",
    "print(f'Found {len(dataset)} files in the selected dataset.\\n')\n",
    "\n",
    "audio_file, sr = librosa.load(dataset[0], sr=sample_rate)\n",
    "print(f'Loaded an audio file with {len(audio_file)} samples at a sample rate of {int(sample_rate)//1000} kHz.')\n",
    "\n",
    "plot_audio(audio_file, sample_rate=sample_rate)"
   ]
  },
  {
   "cell_type": "markdown",
   "metadata": {
    "colab_type": "text",
    "id": "uhA7t-yaEBd5"
   },
   "source": [
    "## CUDA and GPU-acceleration"
   ]
  },
  {
   "cell_type": "markdown",
   "metadata": {
    "colab_type": "text",
    "id": "PO-LuMyiEBd7"
   },
   "source": [
    "Below is a small example demonstrating how CUDA and GPU-acceleration can be set up in PyTorch. If you're running in Google Colab, make sure that you have a GPU available. You can select a GPU under *Runtime -> Change Runtime Type* in the top navigation bar."
   ]
  },
  {
   "cell_type": "code",
   "execution_count": null,
   "metadata": {
    "colab": {},
    "colab_type": "code",
    "id": "7DZ28uKMEBd9",
    "outputId": "80ac9381-93c2-40df-a7e0-72927bb82e64"
   },
   "outputs": [
    {
     "name": "stdout",
     "output_type": "stream",
     "text": [
      "A CUDA-capable GPU must be enabled for this example to work.\n"
     ]
    }
   ],
   "source": [
    "import torch\n",
    "import torch.nn as nn\n",
    "\n",
    "if torch.cuda.is_available():\n",
    "    net = nn.Sequential(nn.Linear(2, 32), nn.ReLU(), nn.Linear(32, 1)).cuda()\n",
    "\n",
    "    test_input = torch.randn(2).cuda()\n",
    "    test_output = net(test_input).cpu()\n",
    "\n",
    "    print(f'Output: {test_output.data.numpy()}')\n",
    "    \n",
    "else:\n",
    "    print('A CUDA-capable GPU must be enabled for this example to work.')"
   ]
  },
  {
   "cell_type": "markdown",
   "metadata": {
    "colab_type": "text",
    "id": "R3z8EhzjEBeC"
   },
   "source": [
    "## If you're doing Voice Activity Detection"
   ]
  },
  {
   "cell_type": "markdown",
   "metadata": {
    "colab_type": "text",
    "id": "qedDcvYCEBeE"
   },
   "source": [
    "For the VAD project, you will need to add labels to your data. The simplest possible way to do this would be to label audio based on the energy alone. This would however not be very precise. A better way to do it is to load and use an already implemented VAD system to create our labels. This should yield fairly good results as we have clean speech data. A VAD that can be used out-of-the-box is the [WebRTCVad](https://pypi.org/project/webrtcvad/). Let's install it (and its dependencies) using pip:"
   ]
  },
  {
   "cell_type": "code",
   "execution_count": null,
   "metadata": {
    "colab": {},
    "colab_type": "code",
    "id": "lFyNAmAdEBeG",
    "outputId": "706611d3-664b-4c32-fa6b-f3c3cb4ce1ba"
   },
   "outputs": [
    {
     "name": "stdout",
     "output_type": "stream",
     "text": [
      "Requirement already satisfied: wave in c:\\users\\nickl\\appdata\\local\\continuum\\anaconda3\\envs\\dsp\\lib\\site-packages (0.0.2)\n"
     ]
    },
    {
     "name": "stderr",
     "output_type": "stream",
     "text": [
      "WARNING: You are using pip version 19.2.2, however version 19.3.1 is available.\n",
      "You should consider upgrading via the 'python -m pip install --upgrade pip' command.\n"
     ]
    },
    {
     "name": "stdout",
     "output_type": "stream",
     "text": [
      "Requirement already satisfied: webrtcvad in c:\\users\\nickl\\appdata\\local\\continuum\\anaconda3\\envs\\dsp\\lib\\site-packages (2.0.10)\n"
     ]
    },
    {
     "name": "stderr",
     "output_type": "stream",
     "text": [
      "WARNING: You are using pip version 19.2.2, however version 19.3.1 is available.\n",
      "You should consider upgrading via the 'python -m pip install --upgrade pip' command.\n"
     ]
    }
   ],
   "source": [
    "!pip install wave\n",
    "!pip install webrtcvad"
   ]
  },
  {
   "cell_type": "markdown",
   "metadata": {
    "colab_type": "text",
    "id": "c36VAnTXEBeL"
   },
   "source": [
    "We will have to do a bit of work to create the labels. The ```WebRTCVad``` expects a binary file as input, so we load a ```wav``` file in binary format using the ```wave``` package. The file then needs to be processed by WebRTCVad in small frames at a time, so we will have to write a function that does this for us. It is a good idea to store audio labels in one or more files. You can use the ```pickle``` package for that - see e.g. [this blog post](https://www.jessicayung.com/how-to-use-pickle-to-save-and-load-variables-in-python/) for a quick guide on how to use pickle."
   ]
  },
  {
   "cell_type": "code",
   "execution_count": null,
   "metadata": {
    "colab": {},
    "colab_type": "code",
    "id": "O2m98BxYEBeN",
    "outputId": "0489b07f-107a-44a9-e7ae-2c720fd1bcae"
   },
   "outputs": [
    {
     "name": "stdout",
     "output_type": "stream",
     "text": [
      "File contains 65280 bytes.\n"
     ]
    },
    {
     "data": {
      "image/png": "[encoded data removed]",
      "text/plain": [
       "<Figure size 1152x144 with 1 Axes>"
      ]
     },
     "metadata": {
      "tags": []
     },
     "output_type": "display_data"
    }
   ],
   "source": [
    "import contextlib\n",
    "import wave\n",
    "import webrtcvad\n",
    "\n",
    "vad = webrtcvad.Vad()\n",
    "\n",
    "# Set the aggresiveness of the VAD (see documentation for more info)\n",
    "vad.set_mode(3)\n",
    "\n",
    "# Load a WAV file in binary format\n",
    "def read_wav_as_binary(filename):\n",
    "    with contextlib.closing(wave.open(filename, 'rb')) as wf:\n",
    "        return wf.readframes(wf.getnframes())\n",
    "    \n",
    "pcm_data = read_wav_as_binary(dataset[0])\n",
    "print(f'File contains {len(pcm_data)} bytes.')\n",
    "\n",
    "frame_duration_ms = 30\n",
    "num_bytes_per_frame = int(sample_rate * (frame_duration_ms / 1000.0) * 2)\n",
    "\n",
    "\n",
    "def get_labels_for_frames(pcm_data, vad, frame_duration_ms, num_bytes_per_frame, sample_rate, step_size=20):\n",
    "    frame_pos = 0\n",
    "    while frame_pos < len(pcm_data) - num_bytes_per_frame:\n",
    "        yield int(vad.is_speech(pcm_data[frame_pos:frame_pos+num_bytes_per_frame], int(sample_rate)))\n",
    "        frame_pos += step_size\n",
    "\n",
    "\n",
    "labels = list(get_labels_for_frames(pcm_data, vad, frame_duration_ms, num_bytes_per_frame, sample_rate))\n",
    "plot_audio(audio_file, labels, sample_rate=sample_rate)\n",
    "\n",
    "# For more example usage of WebRTCVad, see this link:\n",
    "# https://github.com/wiseman/py-webrtcvad/blob/master/example.py"
   ]
  },
  {
   "cell_type": "markdown",
   "metadata": {
    "colab_type": "text",
    "id": "fPB_iXKmEBeU"
   },
   "source": [
    "As can be seen, the WebRTCVad is not perfect, but it's good enough for our purposes. Now it's up to you to apply it to the full dataset! You may want to play around with the VAD aggressiveness, frame size and step size of the VAD to see what works best."
   ]
  },
  {
   "cell_type": "markdown",
   "metadata": {
    "colab_type": "text",
    "id": "rgCRpjkzEBeW"
   },
   "source": [
    "### Questions?"
   ]
  },
  {
   "cell_type": "markdown",
   "metadata": {
    "colab_type": "text",
    "id": "r0xNpSFeEBeX"
   },
   "source": [
    "If you have any questions, be sure to reach out to us in the *#retune_dsp* channel on Slack or ask your fellow students."
   ]
  }
 ],
 "metadata": {
  "colab": {
   "name": "02456_Deep_Learning_Projects_Retune_DSP.ipynb",
   "provenance": []
  },
  "kernelspec": {
   "display_name": "Python 3",
   "language": "python",
   "name": "python3"
  },
  "language_info": {
   "codemirror_mode": {
    "name": "ipython",
    "version": 3
   },
   "file_extension": ".py",
   "mimetype": "text/x-python",
   "name": "python",
   "nbconvert_exporter": "python",
   "pygments_lexer": "ipython3",
   "version": "3.7.1"
  },
  "widgets": {
   "application/vnd.jupyter.widget-state+json": {
    "state": {},
    "version_major": 2,
    "version_minor": 0
   }
  }
 },
 "nbformat": 4,
 "nbformat_minor": 4
}
